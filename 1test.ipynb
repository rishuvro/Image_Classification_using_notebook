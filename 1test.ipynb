{
 "cells": [
  {
   "cell_type": "code",
   "execution_count": 1,
   "id": "5a39b7e6",
   "metadata": {},
   "outputs": [],
   "source": [
    "import numpy as np\n",
    "import os\n",
    "import pickle\n",
    "import sys\n",
    "from PIL import Image\n",
    "from keras.models import load_model\n"
   ]
  },
  {
   "cell_type": "code",
   "execution_count": 2,
   "id": "3be32526",
   "metadata": {},
   "outputs": [],
   "source": [
    "# Preprocess the new image\n",
    "def preprocess_image(image):\n",
    "    image = image.resize((32, 32))  # Resize to match the input shape\n",
    "    image = np.array(image)  # Convert to numpy array\n",
    "    image = image / 255.0  # Normalize pixel values\n",
    "    image = np.expand_dims(image, axis=0)  # Add batch dimension\n",
    "    return image"
   ]
  },
  {
   "cell_type": "code",
   "execution_count": 3,
   "id": "0e1a7b6d",
   "metadata": {},
   "outputs": [],
   "source": [
    "# Load the trained model\n",
    "model = load_model(r'C:\\Users\\rakib\\Python project\\model')"
   ]
  },
  {
   "cell_type": "code",
   "execution_count": 4,
   "id": "da18acd4",
   "metadata": {},
   "outputs": [
    {
     "name": "stdout",
     "output_type": "stream",
     "text": [
      "1/1 [==============================] - 0s 100ms/step\n"
     ]
    }
   ],
   "source": [
    "# Predict on new images\n",
    "image_path = r'C:\\Users\\rakib\\Python project\\dog.png'\n",
    "image = Image.open(image_path)\n",
    "preprocessed_image = preprocess_image(image)\n",
    "predictions = model.predict(preprocessed_image)\n"
   ]
  },
  {
   "cell_type": "code",
   "execution_count": 5,
   "id": "8f76b096",
   "metadata": {},
   "outputs": [],
   "source": [
    "# Get the predicted class label\n",
    "predicted_class = np.argmax(predictions[0])"
   ]
  },
  {
   "cell_type": "code",
   "execution_count": 6,
   "id": "09218dc1",
   "metadata": {
    "scrolled": false
   },
   "outputs": [
    {
     "name": "stdout",
     "output_type": "stream",
     "text": [
      "Predicted Class: 3\n"
     ]
    }
   ],
   "source": [
    "# Print the predicted class label\n",
    "print(\"Predicted Class:\", predicted_class)"
   ]
  },
  {
   "cell_type": "code",
   "execution_count": null,
   "id": "b6354790",
   "metadata": {},
   "outputs": [],
   "source": []
  }
 ],
 "metadata": {
  "kernelspec": {
   "display_name": "Python 3 (ipykernel)",
   "language": "python",
   "name": "python3"
  },
  "language_info": {
   "codemirror_mode": {
    "name": "ipython",
    "version": 3
   },
   "file_extension": ".py",
   "mimetype": "text/x-python",
   "name": "python",
   "nbconvert_exporter": "python",
   "pygments_lexer": "ipython3",
   "version": "3.11.3"
  }
 },
 "nbformat": 4,
 "nbformat_minor": 5
}
