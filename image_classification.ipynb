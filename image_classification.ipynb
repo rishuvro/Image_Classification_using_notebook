{
 "cells": [
  {
   "cell_type": "code",
   "execution_count": 1,
   "id": "cda65f33",
   "metadata": {},
   "outputs": [],
   "source": [
    "import numpy as np\n",
    "import os\n",
    "import pickle\n",
    "import sys\n",
    "from PIL import Image\n",
    "from keras.utils import to_categorical\n",
    "from sklearn.model_selection import train_test_split\n",
    "from keras.models import Sequential\n",
    "from keras.layers import Conv2D, MaxPooling2D, Flatten, Dense, Dropout"
   ]
  },
  {
   "cell_type": "code",
   "execution_count": 2,
   "id": "5826af85",
   "metadata": {},
   "outputs": [],
   "source": [
    "def load_cifar_batch(file_path):\n",
    "    with open(file_path, 'rb') as f:\n",
    "        if sys.version_info.major > 3:\n",
    "            data = pickle.load(f, encoding='latin1')\n",
    "        else:\n",
    "            data = pickle.load(f, encoding='bytes')\n",
    "        X = np.array(data[b'data']).reshape(-1, 32, 32, 3)  # Reshape the image data\n",
    "        y = np.array(data[b'labels'])\n",
    "        return X, y"
   ]
  },
  {
   "cell_type": "code",
   "execution_count": 5,
   "id": "a4815acd",
   "metadata": {},
   "outputs": [],
   "source": [
    "def load_cifar10_dataset(dataset_dir):\n",
    "    X_train = []\n",
    "    y_train = []\n",
    "    for batch_id in range(1, 6):\n",
    "        file_path = os.path.join(dataset_dir, f'data_batch_{batch_id}')\n",
    "        X, y = load_cifar_batch(file_path)\n",
    "        X_train.append(X)\n",
    "        y_train.append(y)\n",
    "    \n",
    "    X_train = np.concatenate(X_train, axis=0)\n",
    "    y_train = np.concatenate(y_train, axis=0)\n",
    "    \n",
    "    file_path = os.path.join(dataset_dir, 'test_batch')\n",
    "    X_test, y_test = load_cifar_batch(file_path)\n",
    "    \n",
    "    return X_train, y_train, X_test, y_test"
   ]
  },
  {
   "cell_type": "code",
   "execution_count": 7,
   "id": "45084346",
   "metadata": {},
   "outputs": [],
   "source": [
    "# Set the directory stored the CIFAR-10 dataset\n",
    "dataset_dir = r'C:\\Users\\rakib\\Python project\\cifar-10-batches-py'"
   ]
  },
  {
   "cell_type": "code",
   "execution_count": 8,
   "id": "3683c89e",
   "metadata": {},
   "outputs": [],
   "source": [
    "# Load the CIFAR-10 dataset\n",
    "X_train, y_train, X_test, y_test = load_cifar10_dataset(dataset_dir)"
   ]
  },
  {
   "cell_type": "code",
   "execution_count": 10,
   "id": "656fa931",
   "metadata": {},
   "outputs": [],
   "source": [
    "# Normalize pixel values\n",
    "X_train = X_train / 255.0\n",
    "X_test = X_test / 255.0"
   ]
  },
  {
   "cell_type": "code",
   "execution_count": 11,
   "id": "d06ee068",
   "metadata": {},
   "outputs": [],
   "source": [
    "# Convert labels to one-hot encoding\n",
    "num_classes = 10  # CIFAR-10 has 10 classes\n",
    "y_train = to_categorical(y_train, num_classes)\n",
    "y_test = to_categorical(y_test, num_classes)"
   ]
  },
  {
   "cell_type": "code",
   "execution_count": 12,
   "id": "4d429e39",
   "metadata": {},
   "outputs": [],
   "source": [
    "# Split the dataset into training and validation sets\n",
    "X_train, X_val, y_train, y_val = train_test_split(X_train, y_train, test_size=0.2, random_state=42)"
   ]
  },
  {
   "cell_type": "code",
   "execution_count": 13,
   "id": "2ea1c28f",
   "metadata": {},
   "outputs": [],
   "source": [
    "# Create the model\n",
    "model = Sequential()\n",
    "model.add(Conv2D(32, (3, 3), activation='relu', padding='same', input_shape=(32, 32, 3)))\n",
    "model.add(MaxPooling2D(pool_size=(2, 2)))\n",
    "model.add(Conv2D(64, (3, 3), activation='relu', padding='same'))\n",
    "model.add(MaxPooling2D(pool_size=(2, 2)))\n",
    "model.add(Conv2D(128, (3, 3), activation='relu', padding='same'))\n",
    "model.add(MaxPooling2D(pool_size=(2, 2)))\n",
    "model.add(Flatten())\n",
    "model.add(Dense(128, activation='relu'))\n",
    "model.add(Dropout(0.5))\n",
    "model.add(Dense(10, activation='softmax'))"
   ]
  },
  {
   "cell_type": "code",
   "execution_count": 14,
   "id": "d39ec3b5",
   "metadata": {},
   "outputs": [],
   "source": [
    "# Compile the model\n",
    "model.compile(loss='categorical_crossentropy', optimizer='adam', metrics=['accuracy'])"
   ]
  },
  {
   "cell_type": "code",
   "execution_count": 15,
   "id": "52f7319e",
   "metadata": {},
   "outputs": [
    {
     "name": "stdout",
     "output_type": "stream",
     "text": [
      "Epoch 1/20\n",
      "313/313 [==============================] - 27s 83ms/step - loss: 1.8871 - accuracy: 0.3081 - val_loss: 1.5550 - val_accuracy: 0.4401\n",
      "Epoch 2/20\n",
      "313/313 [==============================] - 26s 84ms/step - loss: 1.5751 - accuracy: 0.4329 - val_loss: 1.4101 - val_accuracy: 0.4918\n",
      "Epoch 3/20\n",
      "313/313 [==============================] - 26s 84ms/step - loss: 1.4395 - accuracy: 0.4873 - val_loss: 1.3162 - val_accuracy: 0.5311\n",
      "Epoch 4/20\n",
      "313/313 [==============================] - 24s 76ms/step - loss: 1.3608 - accuracy: 0.5169 - val_loss: 1.2477 - val_accuracy: 0.5481\n",
      "Epoch 5/20\n",
      "313/313 [==============================] - 24s 75ms/step - loss: 1.2773 - accuracy: 0.5474 - val_loss: 1.2119 - val_accuracy: 0.5674\n",
      "Epoch 6/20\n",
      "313/313 [==============================] - 25s 79ms/step - loss: 1.2187 - accuracy: 0.5727 - val_loss: 1.1357 - val_accuracy: 0.5938\n",
      "Epoch 7/20\n",
      "313/313 [==============================] - 24s 77ms/step - loss: 1.1609 - accuracy: 0.5946 - val_loss: 1.1251 - val_accuracy: 0.6008\n",
      "Epoch 8/20\n",
      "313/313 [==============================] - 24s 77ms/step - loss: 1.1058 - accuracy: 0.6132 - val_loss: 1.0787 - val_accuracy: 0.6219\n",
      "Epoch 9/20\n",
      "313/313 [==============================] - 24s 77ms/step - loss: 1.0468 - accuracy: 0.6294 - val_loss: 1.0513 - val_accuracy: 0.6304\n",
      "Epoch 10/20\n",
      "313/313 [==============================] - 24s 78ms/step - loss: 1.0119 - accuracy: 0.6434 - val_loss: 1.0568 - val_accuracy: 0.6270\n",
      "Epoch 11/20\n",
      "313/313 [==============================] - 23s 75ms/step - loss: 0.9575 - accuracy: 0.6618 - val_loss: 1.0391 - val_accuracy: 0.6408\n",
      "Epoch 12/20\n",
      "313/313 [==============================] - 23s 73ms/step - loss: 0.9220 - accuracy: 0.6721 - val_loss: 1.0627 - val_accuracy: 0.6296\n",
      "Epoch 13/20\n",
      "313/313 [==============================] - 23s 73ms/step - loss: 0.8830 - accuracy: 0.6880 - val_loss: 1.0894 - val_accuracy: 0.6313\n",
      "Epoch 14/20\n",
      "313/313 [==============================] - 24s 77ms/step - loss: 0.8376 - accuracy: 0.7027 - val_loss: 1.0593 - val_accuracy: 0.6425\n",
      "Epoch 15/20\n",
      "313/313 [==============================] - 25s 79ms/step - loss: 0.8137 - accuracy: 0.7099 - val_loss: 1.0746 - val_accuracy: 0.6422\n",
      "Epoch 16/20\n",
      "313/313 [==============================] - 23s 74ms/step - loss: 0.7741 - accuracy: 0.7247 - val_loss: 1.0578 - val_accuracy: 0.6492\n",
      "Epoch 17/20\n",
      "313/313 [==============================] - 23s 74ms/step - loss: 0.7342 - accuracy: 0.7358 - val_loss: 1.0835 - val_accuracy: 0.6482\n",
      "Epoch 18/20\n",
      "313/313 [==============================] - 23s 74ms/step - loss: 0.6978 - accuracy: 0.7461 - val_loss: 1.0911 - val_accuracy: 0.6398\n",
      "Epoch 19/20\n",
      "313/313 [==============================] - 23s 74ms/step - loss: 0.6723 - accuracy: 0.7568 - val_loss: 1.1295 - val_accuracy: 0.6439\n",
      "Epoch 20/20\n",
      "313/313 [==============================] - 23s 75ms/step - loss: 0.6475 - accuracy: 0.7641 - val_loss: 1.1320 - val_accuracy: 0.6433\n"
     ]
    }
   ],
   "source": [
    "# Train the model\n",
    "batch_size = 128\n",
    "epochs = 20\n",
    "history = model.fit(X_train, y_train, batch_size=batch_size, epochs=epochs, validation_data=(X_val, y_val))"
   ]
  },
  {
   "cell_type": "code",
   "execution_count": 16,
   "id": "39ad7fed",
   "metadata": {},
   "outputs": [],
   "source": [
    "# Save the model\n",
    "model.save(r'C:\\Users\\rakib\\Python project\\model')"
   ]
  },
  {
   "cell_type": "code",
   "execution_count": 17,
   "id": "c799c8ed",
   "metadata": {},
   "outputs": [],
   "source": [
    "# Evaluate the model on the test set\n",
    "test_loss, test_accuracy = model.evaluate(X_test, y_test, verbose=0)"
   ]
  },
  {
   "cell_type": "code",
   "execution_count": 18,
   "id": "e245a823",
   "metadata": {},
   "outputs": [
    {
     "name": "stdout",
     "output_type": "stream",
     "text": [
      "313/313 [==============================] - 2s 5ms/step\n"
     ]
    }
   ],
   "source": [
    "# Make predictions on the test set\n",
    "y_pred = model.predict(X_test)\n",
    "y_pred_classes = np.argmax(y_pred, axis=1)"
   ]
  },
  {
   "cell_type": "code",
   "execution_count": 19,
   "id": "a048504d",
   "metadata": {},
   "outputs": [],
   "source": [
    "# Convert one-hot encoded labels to categorical labels\n",
    "y_test_classes = np.argmax(y_test, axis=1)"
   ]
  },
  {
   "cell_type": "code",
   "execution_count": 22,
   "id": "df96a762",
   "metadata": {},
   "outputs": [
    {
     "name": "stdout",
     "output_type": "stream",
     "text": [
      "Test Loss: 1.1173354387283325\n",
      "Test Accuracy: 0.6409000158309937\n",
      "Precision: 0.6535682922756593\n",
      "Recall: 0.6409\n",
      "F1-Score: 0.6434936235921728\n"
     ]
    }
   ],
   "source": [
    "# Calculate metrics\n",
    "from sklearn.metrics import accuracy_score, precision_score, recall_score, f1_score\n",
    "accuracy = accuracy_score(y_test_classes, y_pred_classes)\n",
    "precision = precision_score(y_test_classes, y_pred_classes, average='weighted')\n",
    "recall = recall_score(y_test_classes, y_pred_classes, average='weighted')\n",
    "f1 = f1_score(y_test_classes, y_pred_classes, average='weighted')\n",
    "print('Test Loss:', test_loss)\n",
    "print('Test Accuracy:', test_accuracy)\n",
    "print('Precision:', precision)\n",
    "print('Recall:', recall)\n",
    "print('F1-Score:', f1)"
   ]
  },
  {
   "cell_type": "code",
   "execution_count": null,
   "id": "6621f29a",
   "metadata": {},
   "outputs": [],
   "source": []
  }
 ],
 "metadata": {
  "kernelspec": {
   "display_name": "Python 3 (ipykernel)",
   "language": "python",
   "name": "python3"
  },
  "language_info": {
   "codemirror_mode": {
    "name": "ipython",
    "version": 3
   },
   "file_extension": ".py",
   "mimetype": "text/x-python",
   "name": "python",
   "nbconvert_exporter": "python",
   "pygments_lexer": "ipython3",
   "version": "3.11.3"
  }
 },
 "nbformat": 4,
 "nbformat_minor": 5
}
